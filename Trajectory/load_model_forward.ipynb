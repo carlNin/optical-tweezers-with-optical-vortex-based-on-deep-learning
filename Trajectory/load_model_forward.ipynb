{
 "cells": [
  {
   "cell_type": "code",
   "execution_count": 1,
   "id": "3691cca9-42fe-4256-bb68-53a51d5d1480",
   "metadata": {},
   "outputs": [
    {
     "name": "stdout",
     "output_type": "stream",
     "text": [
      "CUDA Device Count: 1\n",
      "CUDA Device Name: NVIDIA GeForce RTX 3060 Laptop GPU\n"
     ]
    }
   ],
   "source": [
    "from torch import optim\n",
    "import torch.utils.data as data\n",
    "from setting_model import *\n",
    "import numpy as np\n",
    "import os"
   ]
  },
  {
   "cell_type": "code",
   "execution_count": 2,
   "id": "4cf45e28-a993-4ec7-bbdc-efaae69e16c6",
   "metadata": {},
   "outputs": [],
   "source": [
    "# Model instantiation\n",
    "# forward_model = model\n",
    "#forward_model = FC_Net_2D().to(device)\n",
    "\n",
    "iteration = 0\n",
    "interval = 100\n",
    "batch_size = 100\n",
    "lr = 0.0005     # 3e-4\n",
    "epoch = 5000\n",
    "iter_num = []\n",
    "losses = {'err_train': [], 'err_test': [], 'loss_train': [], 'loss_test': []}"
   ]
  },
  {
   "cell_type": "code",
   "execution_count": 3,
   "id": "f70f2559-8b53-49b3-b7d3-115b7f75d96b",
   "metadata": {},
   "outputs": [],
   "source": [
    "# Gets the relevant file path\n",
    "data_root = os.getcwd()\n",
    "\n",
    "train_trajectory_path = os.path.join(data_root, \"Train_Data\", \"trajectory_train_2105.csv\")\n",
    "assert os.path.exists(train_trajectory_path), \"{} path does not exist.\".format(train_trajectory_path)\n",
    "\n",
    "test_trajectory_path = os.path.join(data_root, \"Train_Data\", \"trajectory_test_2105.csv\")\n",
    "assert os.path.exists(test_trajectory_path), \"{} path does not exist.\".format(test_trajectory_path)\n",
    "\n",
    "# Save the updated weights file\n",
    "#save_dir = os.path.join(data_root, \"weight_optim\")\n",
    "#assert os.path.exists(save_dir), \"{} path does not exist.\".format(save_dir)"
   ]
  },
  {
   "cell_type": "code",
   "execution_count": 4,
   "id": "7ac1bac5-6259-4363-8520-92b6085c17cb",
   "metadata": {},
   "outputs": [],
   "source": [
    "# Loader Data\n",
    "train_numpy = np.loadtxt(train_trajectory_path, delimiter=\",\")\n",
    "train_input = torch.FloatTensor(train_numpy[:, 0:100]).to(device)\n",
    "train_label = torch.FloatTensor(train_numpy[:, 100:2100]).to(device)\n",
    "train_input = train_input*1e6\n",
    "train_label = train_label*1e6\n",
    "train_dataset = data.TensorDataset(train_input, train_label)\n",
    "data_loader = data.DataLoader(dataset=train_dataset, batch_size=batch_size, shuffle=True)    # 提取训练数据集并加载\n",
    "\n",
    "test_numpy = np.loadtxt(test_trajectory_path, delimiter=\",\")\n",
    "test_input = torch.FloatTensor(test_numpy[:, 0:100]).to(device)\n",
    "test_label = torch.FloatTensor(test_numpy[:, 100:2100]).to(device)                               # 提取测试数据集\n",
    "test_input = test_input*1e6  \n",
    "test_label = test_label*1e6"
   ]
  },
  {
   "cell_type": "code",
   "execution_count": 5,
   "id": "80d4e86d-4f85-4ddf-9745-e5605fd3dd4e",
   "metadata": {},
   "outputs": [],
   "source": [
    "class UpBlock(nn.Module):\n",
    "    def __init__(self, in_channels, out_channels):\n",
    "        super(UpBlock, self).__init__()\n",
    "        self.conv1 = nn.Sequential(\n",
    "            nn.ConvTranspose1d(in_channels, out_channels, kernel_size=3, padding=1),\n",
    "            nn.ReLU(),\n",
    "        )\n",
    "        self.conv2 = nn.Sequential(\n",
    "            nn.Conv1d(in_channels, out_channels, kernel_size=3, padding=1),\n",
    "            nn.ReLU(),\n",
    "        )\n",
    "        self.conv3 = nn.Sequential(\n",
    "            nn.ConvTranspose1d(in_channels, out_channels, kernel_size=3, padding=1),\n",
    "            nn.ReLU(),\n",
    "        )\n",
    "\n",
    "    def forward(self, x: torch.Tensor) -> torch.Tensor:\n",
    "        identity = x\n",
    "\n",
    "        conv1 = self.conv1(x)\n",
    "        conv2 = self.conv2(conv1)\n",
    "        conv2 = torch.sub(conv2, identity)        # 做减法\n",
    "        conv3 = self.conv3(conv2)\n",
    "\n",
    "        out = torch.add(conv3, conv1)             # 做加法\n",
    "\n",
    "        return out\n",
    "    \n",
    "class DownBlock(nn.Module):\n",
    "    def __init__(self, in_channels, out_channels):\n",
    "        super(DownBlock, self).__init__()\n",
    "        self.conv1 = nn.Sequential(\n",
    "            nn.Conv1d(in_channels, out_channels, kernel_size=3, padding=1),\n",
    "            nn.PReLU(),\n",
    "        )\n",
    "        self.conv2 = nn.Sequential(\n",
    "            nn.ConvTranspose1d(in_channels, out_channels, kernel_size=3, padding=1),\n",
    "            nn.PReLU(),\n",
    "        )\n",
    "        self.conv3 = nn.Sequential(\n",
    "            nn.Conv1d(in_channels, out_channels, kernel_size=3, padding=1),\n",
    "            nn.PReLU(),\n",
    "        )\n",
    "\n",
    "    def forward(self, x: torch.Tensor) -> torch.Tensor:\n",
    "        identity = x\n",
    "\n",
    "        conv1 = self.conv1(x)\n",
    "        conv2 = self.conv2(conv1)\n",
    "        conv2 = torch.sub(conv2, identity)      # 做减法\n",
    "        conv3 = self.conv3(conv2)               \n",
    "\n",
    "        out = torch.add(conv3, conv1)           # 做加法\n",
    "\n",
    "        return out\n",
    "    \n",
    "class ResNet(nn.Module):\n",
    "    def __init__(self, bilinear=False):\n",
    "        super(ResNet, self).__init__()\n",
    "        \n",
    "        # The first layer\n",
    "        self.conv1 = nn.Sequential(\n",
    "            nn.Conv1d(1, 64, kernel_size=3, padding=1),\n",
    "            nn.ReLU(),\n",
    "        )\n",
    "\n",
    "        # The second layer\n",
    "        self.conv2 = nn.Sequential(\n",
    "            nn.Conv1d(64, 1, kernel_size=1),\n",
    "            nn.ReLU(),\n",
    "        )\n",
    "        self.M_layer2 = UpBlock(1, 1)                                           # (N, 128, 300)\n",
    "        #self.pooling1 = nn.ConvTranspose1d(64, 64, kernel_size=3, padding = 1)       # (N, 128, 100)\n",
    "        self.M_layer3 = DownBlock(1, 1)                                          # (N, 256, 100)\n",
    "        #self.pooling2 = nn.ConvTranspose1d(1, 1, kernel_size=3, padding = 1)        # (N, 256, 1)\n",
    "        self.fc_1 = torch.nn.Sequential(\n",
    "        nn.Linear(100, 6400),\n",
    "        nn.ReLU(),\n",
    "        nn.Linear(6400, 4800),\n",
    "        nn.ReLU(),\n",
    "        nn.Linear(4800, 3200),\n",
    "        nn.ReLU(),\n",
    "        nn.Linear(3200, 2000)\n",
    "        )\n",
    "    def forward(self, x):\n",
    "        x = x.view(-1, 1, 100)\n",
    "        x = self.conv1(x)\n",
    "        x = self.conv2(x)\n",
    "        x = self.M_layer2(x)\n",
    "        x = self.M_layer3(x)\n",
    "        x = self.M_layer2(x)\n",
    "        x = self.M_layer3(x)                 # 双重上下采样层\n",
    "        x = x.view(-1, 100)\n",
    "        out = self.fc_1(x)\n",
    "        return out"
   ]
  },
  {
   "cell_type": "code",
   "execution_count": 6,
   "id": "86d31c03-0b99-4c6b-bcfc-8f06a79bcfe9",
   "metadata": {},
   "outputs": [
    {
     "data": {
      "text/plain": [
       "<All keys matched successfully>"
      ]
     },
     "execution_count": 6,
     "metadata": {},
     "output_type": "execute_result"
    }
   ],
   "source": [
    "# 测试所保存的模型\n",
    "save_dir = os.path.join(data_root, \"weight_optim\")\n",
    "assert os.path.exists(save_dir), \"{} path does not exist.\".format(save_dir)\n",
    "m_state_dict = torch.load(save_dir + '\\\\forward_2150.pt')\n",
    "# m_state_dict = torch.load(save_dir + '\\\\forward_phase1.pt')\n",
    "new_m = ResNet().to(device)\n",
    "new_m.load_state_dict(m_state_dict)"
   ]
  },
  {
   "cell_type": "code",
   "execution_count": 7,
   "id": "1e44cdf2-dde6-4480-b81b-fc1269336d1f",
   "metadata": {},
   "outputs": [
    {
     "data": {
      "image/png": "[encoded data removed]",
      "text/plain": [
       "<Figure size 640x480 with 1 Axes>"
      ]
     },
     "metadata": {},
     "output_type": "display_data"
    }
   ],
   "source": [
    "# 训练集预测效果\n",
    "c = 612               # 5112, 612, 615, 617, 608, 599, 594, 588\n",
    "valid_input = train_input[c:c+1]\n",
    "valid_predict = new_m(valid_input).view(-1).cpu().detach().numpy().reshape(1, 2000)               \n",
    "valid_label = train_label[c].cpu().detach().numpy().reshape(1, 2000)                                    \n",
    "valid_predict = valid_predict.reshape(2000,)\n",
    "valid_label = valid_label.reshape(2000,)\n",
    "#print(valid_input)\n",
    "\n",
    "plt.title('Comparison of Trajectory')\n",
    "plt.plot(valid_predict[0:1000], valid_predict[1000:2000], color=\"orange\", label='Prediction', linestyle='-')\n",
    "plt.plot(valid_label[0:1000], valid_label[1000:2000], color=\"black\", label='Simulation', linestyle=':')\n",
    "plt.legend(loc='upper right')\n",
    "plt.xlim(-4, 4)\n",
    "plt.ylim(-4, 4)\n",
    "plt.xlabel('x*(1e-6)')\n",
    "plt.ylabel('y*(1e-6)')\n",
    "plt.show()"
   ]
  },
  {
   "cell_type": "code",
   "execution_count": 8,
   "id": "1270a4bf-c821-4d52-a35c-9fae726bf9e6",
   "metadata": {},
   "outputs": [
    {
     "data": {
      "image/png": "[encoded data removed]",
      "text/plain": [
       "<Figure size 640x480 with 1 Axes>"
      ]
     },
     "metadata": {},
     "output_type": "display_data"
    }
   ],
   "source": [
    "# 测试集预测效果\n",
    "c = 698              # 1089, 654, 680\n",
    "valid_input = test_input[c:c+1]\n",
    "valid_predict = new_m(valid_input).view(-1).cpu().detach().numpy().reshape(1, 2000)               \n",
    "valid_label = test_label[c].cpu().detach().numpy().reshape(1, 2000)                                    \n",
    "valid_predict = valid_predict.reshape(2000,)\n",
    "valid_label = valid_label.reshape(2000,)\n",
    "#print(valid_input)\n",
    "\n",
    "plt.title('Comparison of Trajectory')\n",
    "plt.plot(valid_predict[0:1000], valid_predict[1000:2000], color=\"orange\", label='Prediction', linestyle='-')\n",
    "plt.plot(valid_label[0:1000], valid_label[1000:2000], color=\"black\", label='Simulation', linestyle=':')\n",
    "plt.legend(loc='upper right')\n",
    "plt.xlim(-4, 4)\n",
    "plt.ylim(-4, 4)\n",
    "plt.xlabel('x*(1e-6)')\n",
    "plt.ylabel('y*(1e-6)')\n",
    "plt.show()"
   ]
  },
  {
   "cell_type": "code",
   "execution_count": null,
   "id": "76cc1ffb-bc4c-4855-8156-54eb10ae184a",
   "metadata": {},
   "outputs": [],
   "source": []
  }
 ],
 "metadata": {
  "kernelspec": {
   "display_name": "Python [conda env:pytorch] *",
   "language": "python",
   "name": "conda-env-pytorch-py"
  },
  "language_info": {
   "codemirror_mode": {
    "name": "ipython",
    "version": 3
   },
   "file_extension": ".py",
   "mimetype": "text/x-python",
   "name": "python",
   "nbconvert_exporter": "python",
   "pygments_lexer": "ipython3",
   "version": "3.9.16"
  }
 },
 "nbformat": 4,
 "nbformat_minor": 5
}
