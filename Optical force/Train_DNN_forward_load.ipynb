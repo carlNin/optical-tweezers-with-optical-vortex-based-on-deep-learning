{
 "cells": [
  {
   "cell_type": "raw",
   "id": "ec324430-32e9-464b-99b0-246fa368976b",
   "metadata": {},
   "source": [
    "'''\n",
    "Training model\n",
    "\n",
    "Version: pytorch 1.13.1\n",
    "Author: LN\n",
    "'''"
   ]
  },
  {
   "cell_type": "code",
   "execution_count": 1,
   "id": "d989fc4a-2f0c-47e9-8dc2-7f336f0439ff",
   "metadata": {},
   "outputs": [
    {
     "name": "stdout",
     "output_type": "stream",
     "text": [
      "CUDA Device Count: 1\n",
      "CUDA Device Name: NVIDIA GeForce RTX 3060 Laptop GPU\n"
     ]
    }
   ],
   "source": [
    "from torch import optim\n",
    "import torch.utils.data as data\n",
    "from setting_model import *\n",
    "import numpy as np\n",
    "import os"
   ]
  },
  {
   "cell_type": "code",
   "execution_count": 2,
   "id": "7d9ff6c2-01bb-4a7b-9519-74ed3b737ac2",
   "metadata": {},
   "outputs": [],
   "source": [
    "# Model instantiation\n",
    "# forward_model = model\n",
    "# forward_model = FC_Net().to(device)\n",
    "\n",
    "iteration = 0\n",
    "interval = 100\n",
    "batch_size = 20                 # 修改\n",
    "lr = 3e-4\n",
    "epoch = 2000\n",
    "iter_num = []\n",
    "losses = {'err_train': [], 'err_test': [], 'loss_train': [], 'loss_test': []}"
   ]
  },
  {
   "cell_type": "code",
   "execution_count": 3,
   "id": "eb3f9bd2-084f-4b85-b437-9f47a7be72e5",
   "metadata": {},
   "outputs": [],
   "source": [
    "# Gets the relevant file path\n",
    "data_root = os.getcwd()\n",
    "bo_len_path = os.path.join(data_root, \"Train_Data_Fig4\", \"X.csv\")\n",
    "assert os.path.exists(bo_len_path), \"{} path does not exist.\".format(bo_len_path)                  # assert function\n",
    "\n",
    "train_spectrum_path = os.path.join(data_root, \"Train_Data_Fig4\", \"train_680.csv\")\n",
    "assert os.path.exists(train_spectrum_path), \"{} path does not exist.\".format(train_spectrum_path)\n",
    "\n",
    "test_spectrum_path = os.path.join(data_root, \"Train_Data_Fig4\", \"test_77.csv\")\n",
    "assert os.path.exists(test_spectrum_path), \"{} path does not exist.\".format(test_spectrum_path)\n",
    "\n",
    "# Save the updated weights file\n",
    "#save_dir = os.path.join(data_root, \"weight_optim\")\n",
    "#assert os.path.exists(save_dir), \"{} path does not exist.\".format(save_dir)"
   ]
  },
  {
   "cell_type": "code",
   "execution_count": 4,
   "id": "a87ae1a4-4bce-4592-b5ed-b006c68c9c92",
   "metadata": {},
   "outputs": [],
   "source": [
    "# Loader Data\n",
    "train_numpy = np.loadtxt(train_spectrum_path, delimiter=\",\")\n",
    "train_input = torch.FloatTensor(train_numpy[:, 600:603]).to(device)\n",
    "train_label = torch.FloatTensor(train_numpy[:, 0:300]).to(device)\n",
    "train_dataset = data.TensorDataset(train_input, train_label)\n",
    "data_loader = data.DataLoader(dataset=train_dataset, batch_size=batch_size, shuffle=True)    # 提取训练数据集并加载\n",
    "\n",
    "test_numpy = np.loadtxt(test_spectrum_path, delimiter=\",\")\n",
    "test_input = torch.FloatTensor(test_numpy[:, 600:603]).to(device)\n",
    "test_label = torch.FloatTensor(test_numpy[:, 0:300]).to(device)                               # 提取测试数据集"
   ]
  },
  {
   "cell_type": "code",
   "execution_count": 5,
   "id": "57a319d3-f852-4296-a160-ac4721316277",
   "metadata": {},
   "outputs": [
    {
     "data": {
      "text/plain": [
       "(torch.Size([680, 3]), torch.Size([77, 3]))"
      ]
     },
     "execution_count": 5,
     "metadata": {},
     "output_type": "execute_result"
    }
   ],
   "source": [
    "train_input.shape, test_input.shape"
   ]
  },
  {
   "cell_type": "code",
   "execution_count": 6,
   "id": "e48b5a66-c297-47f7-8ffc-652b43b20f90",
   "metadata": {},
   "outputs": [],
   "source": [
    "class FC_Net(nn.Module):\n",
    "    def __init__(self):\n",
    "        super(FC_Net, self).__init__()\n",
    "        self.layer1 = nn.Linear(3, 3200)                             # Train_Data--输入4，Train_Data_Fig4--输入3              \n",
    "        self.layer2 = nn.Linear(3200, 1600)\n",
    "        self.layer3 = nn.Linear(1600, 800)\n",
    "        self.layer4 = nn.Linear(800, 400)\n",
    "        self.layer5 = nn.Linear(400, 300)                   \n",
    "        self.activation_1 = nn.LeakyReLU()\n",
    "        self.activation_2 = nn.ReLU()\n",
    "\n",
    "    def forward(self, inputs):\n",
    "        x1 = self.activation_1(self.layer1(inputs))\n",
    "        x2 = self.activation_1(self.layer2(x1))\n",
    "        x3 = self.activation_1(self.layer3(x2))\n",
    "        x4 = self.activation_1(self.layer4(x3))\n",
    "        x5 = self.layer5(x4)\n",
    "        return x5"
   ]
  },
  {
   "cell_type": "code",
   "execution_count": 7,
   "id": "83565bb8-f2ca-43fb-bf15-a8749c21c7a7",
   "metadata": {},
   "outputs": [
    {
     "ename": "TypeError",
     "evalue": "Expected state_dict to be dict-like, got <class 'setting_model.FC_Net'>.",
     "output_type": "error",
     "traceback": [
      "\u001b[1;31m---------------------------------------------------------------------------\u001b[0m",
      "\u001b[1;31mTypeError\u001b[0m                                 Traceback (most recent call last)",
      "Cell \u001b[1;32mIn[7], line 7\u001b[0m\n\u001b[0;32m      5\u001b[0m \u001b[38;5;66;03m# m_state_dict = torch.load(save_dir + '\\\\forward_phase1.pt')\u001b[39;00m\n\u001b[0;32m      6\u001b[0m new_m \u001b[38;5;241m=\u001b[39m FC_Net()\u001b[38;5;241m.\u001b[39mto(device)\n\u001b[1;32m----> 7\u001b[0m \u001b[43mnew_m\u001b[49m\u001b[38;5;241;43m.\u001b[39;49m\u001b[43mload_state_dict\u001b[49m\u001b[43m(\u001b[49m\u001b[43mm_state_dict\u001b[49m\u001b[43m)\u001b[49m\n",
      "File \u001b[1;32m~\\anaconda3\\envs\\pytorch\\lib\\site-packages\\torch\\nn\\modules\\module.py:1624\u001b[0m, in \u001b[0;36mModule.load_state_dict\u001b[1;34m(self, state_dict, strict)\u001b[0m\n\u001b[0;32m   1601\u001b[0m \u001b[38;5;124mr\u001b[39m\u001b[38;5;124;03m\"\"\"Copies parameters and buffers from :attr:`state_dict` into\u001b[39;00m\n\u001b[0;32m   1602\u001b[0m \u001b[38;5;124;03mthis module and its descendants. If :attr:`strict` is ``True``, then\u001b[39;00m\n\u001b[0;32m   1603\u001b[0m \u001b[38;5;124;03mthe keys of :attr:`state_dict` must exactly match the keys returned\u001b[39;00m\n\u001b[1;32m   (...)\u001b[0m\n\u001b[0;32m   1621\u001b[0m \u001b[38;5;124;03m    ``RuntimeError``.\u001b[39;00m\n\u001b[0;32m   1622\u001b[0m \u001b[38;5;124;03m\"\"\"\u001b[39;00m\n\u001b[0;32m   1623\u001b[0m \u001b[38;5;28;01mif\u001b[39;00m \u001b[38;5;129;01mnot\u001b[39;00m \u001b[38;5;28misinstance\u001b[39m(state_dict, Mapping):\n\u001b[1;32m-> 1624\u001b[0m     \u001b[38;5;28;01mraise\u001b[39;00m \u001b[38;5;167;01mTypeError\u001b[39;00m(\u001b[38;5;124m\"\u001b[39m\u001b[38;5;124mExpected state_dict to be dict-like, got \u001b[39m\u001b[38;5;132;01m{}\u001b[39;00m\u001b[38;5;124m.\u001b[39m\u001b[38;5;124m\"\u001b[39m\u001b[38;5;241m.\u001b[39mformat(\u001b[38;5;28mtype\u001b[39m(state_dict)))\n\u001b[0;32m   1626\u001b[0m missing_keys: List[\u001b[38;5;28mstr\u001b[39m] \u001b[38;5;241m=\u001b[39m []\n\u001b[0;32m   1627\u001b[0m unexpected_keys: List[\u001b[38;5;28mstr\u001b[39m] \u001b[38;5;241m=\u001b[39m []\n",
      "\u001b[1;31mTypeError\u001b[0m: Expected state_dict to be dict-like, got <class 'setting_model.FC_Net'>."
     ]
    }
   ],
   "source": [
    "# 测试所保存的模型\n",
    "save_dir = os.path.join(data_root, \"weight_optim\")\n",
    "assert os.path.exists(save_dir), \"{} path does not exist.\".format(save_dir)\n",
    "m_state_dict = torch.load(save_dir + '\\\\model_train_Fx.pt')\n",
    "# m_state_dict = torch.load(save_dir + '\\\\forward_phase1.pt')\n",
    "new_m = FC_Net().to(device)\n",
    "new_m.load_state_dict(m_state_dict)"
   ]
  },
  {
   "cell_type": "code",
   "execution_count": null,
   "id": "a8ae09ad-421c-44f3-b6fd-73c28428ce40",
   "metadata": {},
   "outputs": [],
   "source": [
    "# Training process\n",
    "def train():\n",
    "    optimizer = optim.Adam(forward_model.parameters(), lr=lr)\n",
    "    criterion = nn.MSELoss(reduction='mean')\n",
    "\n",
    "    for t in range(epoch):\n",
    "        for step, item in enumerate(data_loader):\n",
    "            # train\n",
    "            train_input, train_label = item\n",
    "            train_predict = forward_model(train_input)\n",
    "            loss_train = criterion(train_predict, train_label)\n",
    "            \n",
    "            global iteration                      # 声明全局变量， 不声明全局变量会报错\n",
    "            if iteration % interval == 0:\n",
    "                # test\n",
    "                test_predict = forward_model(test_input)\n",
    "                loss_test = criterion(test_predict, test_label)\n",
    "                losses['loss_train'].append(loss_train.cpu().detach().numpy())\n",
    "                losses['loss_test'].append(loss_test.cpu().detach().numpy())\n",
    "\n",
    "                # compute and print the absolute error\n",
    "                train_out = train_predict - train_label\n",
    "                train_error = np.abs(train_out.cpu().detach().numpy()).mean()\n",
    "                test_out = test_predict - test_label\n",
    "                test_error = np.abs(test_out.cpu().detach().numpy()).mean()\n",
    "                losses['err_train'].append(train_error)\n",
    "                losses['err_test'].append(test_error)\n",
    "\n",
    "                print('iteration: {}'.format(iteration))\n",
    "                print('train_loss: {:.4}, test_loss: {:.4}'.\n",
    "                      format(loss_train, loss_test))\n",
    "                print('train_error: {:.4}, test_error: {:.4}'.\n",
    "                      format(train_error, test_error))\n",
    "\n",
    "                iter_num.append(iteration)\n",
    "\n",
    "\n",
    "            # update parameters\n",
    "            optimizer.zero_grad()\n",
    "            loss_train.backward()\n",
    "            optimizer.step()\n",
    "\n",
    "            iteration += 1"
   ]
  },
  {
   "cell_type": "code",
   "execution_count": null,
   "id": "de81bae3-736f-40ed-abb4-ce4ef46db845",
   "metadata": {},
   "outputs": [],
   "source": [
    "train()"
   ]
  },
  {
   "cell_type": "code",
   "execution_count": null,
   "id": "ef0d0c4a-1fb9-4c98-b3c7-dc5797b5e1ae",
   "metadata": {},
   "outputs": [],
   "source": [
    "# 过拟合\n",
    "# MSEloss curve\n",
    "Len = len(losses['loss_train'])\n",
    "epoch_total = np.linspace(0, Len, Len)\n",
    "plt.title('MSEloss')\n",
    "plt.plot(epoch_total, losses['loss_train'],color=\"black\", label='Train_loss')\n",
    "plt.plot(epoch_total, losses['loss_test'],color=\"orange\", label='Train_loss')\n",
    "plt.legend(loc='upper right')\n",
    "plt.xlabel('epoch_total')\n",
    "plt.ylabel('loss_fn')\n",
    "plt.show()"
   ]
  },
  {
   "cell_type": "code",
   "execution_count": null,
   "id": "c9b63d77-41ab-4721-8cea-3292e70305b9",
   "metadata": {},
   "outputs": [],
   "source": [
    "# train or test\n",
    "bo_len = np.loadtxt(bo_len_path, delimiter=\",\", dtype=np.float32)\n",
    "\n",
    "# plot_train_data\n",
    "c = 3\n",
    "valid_input = train_input[c:c+1]\n",
    "valid_predict = forward_model(valid_input).view(-1).cpu().detach().numpy().reshape(1, 300)               \n",
    "valid_label = train_label[c].cpu().detach().numpy().reshape(1, 300)                                    \n",
    "valid_predict = valid_predict.reshape(300,)\n",
    "valid_label = valid_label.reshape(300,)\n",
    "print(valid_input)\n",
    "\n",
    "plt.title('Comparison of Transmission Spectrum')\n",
    "plt.plot(bo_len, valid_predict, color=\"orange\", label='Prediction', linestyle='-')\n",
    "plt.plot(bo_len, valid_label, color=\"black\", label='Simulation', linestyle=':')\n",
    "plt.legend(loc='upper right')\n",
    "plt.xlabel('x')\n",
    "plt.ylabel('Fx(10^-12)')\n",
    "plt.show()"
   ]
  },
  {
   "cell_type": "code",
   "execution_count": null,
   "id": "58239de7-e6c9-4d16-865b-d8cd9560899b",
   "metadata": {},
   "outputs": [],
   "source": [
    "test_input.shape"
   ]
  },
  {
   "cell_type": "code",
   "execution_count": null,
   "id": "45f9560c-a13f-4343-ad69-3fbd7faed9e5",
   "metadata": {},
   "outputs": [],
   "source": [
    "# 测试及画图\n",
    "c = 36\n",
    "valid_input = test_input[c:c+1]\n",
    "print(valid_input)\n",
    "valid_predict = forward_model(valid_input).view(-1).cpu().detach().numpy().reshape(1, 300)               \n",
    "valid_label = test_label[c].cpu().detach().numpy().reshape(1, 300)                                    \n",
    "valid_predict = valid_predict.reshape(300,)\n",
    "valid_label = valid_label.reshape(300,)\n",
    "\n",
    "plt.title('Comparison of Transmission Spectrum')\n",
    "plt.plot(bo_len, valid_predict, color=\"orange\", label='Prediction', linestyle='--')\n",
    "plt.plot(bo_len, valid_label, color=\"black\", label='Simulation', linestyle=':')\n",
    "plt.legend(loc='upper right')\n",
    "plt.xlabel('x')\n",
    "plt.ylabel('Fx(10^-12)')\n",
    "plt.show()"
   ]
  },
  {
   "cell_type": "code",
   "execution_count": null,
   "id": "7ad56653-b40a-4201-8535-b60ca80ec2b5",
   "metadata": {},
   "outputs": [],
   "source": [
    "# Save the updated weights file\n",
    "save_dir = os.path.join(data_root, \"weight_optim\")\n",
    "assert os.path.exists(save_dir), \"{} path does not exist.\".format(save_dir)\n",
    "# Save the weight_optim\n",
    "torch.save(forward_model, save_dir + '\\model_train_Fx'  + '.pth')"
   ]
  },
  {
   "cell_type": "raw",
   "id": "5ee49e97-7032-43fd-bf90-ba18231a83cc",
   "metadata": {},
   "source": [
    "# 数据补充保存--测试集c=36的数据\n",
    "test_36 = np.zeros((300, 3))\n",
    "test_36[:, 0] = bo_len\n",
    "test_36[:, 1] = valid_label        # 真实值\n",
    "test_36[:, 2] = valid_predict      # 预测值\n",
    "np.savetxt(\"Fx.csv\", test_36, delimiter=',')"
   ]
  },
  {
   "cell_type": "code",
   "execution_count": null,
   "id": "02e47cbf-39b4-4aea-860c-21ab24a57164",
   "metadata": {},
   "outputs": [],
   "source": []
  }
 ],
 "metadata": {
  "kernelspec": {
   "display_name": "Python [conda env:pytorch] *",
   "language": "python",
   "name": "conda-env-pytorch-py"
  },
  "language_info": {
   "codemirror_mode": {
    "name": "ipython",
    "version": 3
   },
   "file_extension": ".py",
   "mimetype": "text/x-python",
   "name": "python",
   "nbconvert_exporter": "python",
   "pygments_lexer": "ipython3",
   "version": "3.9.16"
  }
 },
 "nbformat": 4,
 "nbformat_minor": 5
}
